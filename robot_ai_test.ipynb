{
  "nbformat": 4,
  "nbformat_minor": 0,
  "metadata": {
    "accelerator": "GPU",
    "colab": {
      "name": "robot.ai",
      "provenance": [],
      "collapsed_sections": []
    },
    "kernelspec": {
      "display_name": "Python 3",
      "name": "python3"
    }
  },
  "cells": [
    {
      "cell_type": "markdown",
      "metadata": {
        "id": "ILQWomw6sgqP"
      },
      "source": [
        "![logo_robot.ai.png](data:image/png;base64,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)"
      ]
    },
    {
      "cell_type": "markdown",
      "metadata": {
        "id": "--OodfmkI7GZ"
      },
      "source": [
        "Acesta este Google Colab:\r\n",
        "- Colaboratory, sau „Colab” pe scurt, este un produs de la Google Research. Colab permite oricui să scrie și să execute coduri Python arbitrare prin browser și este deosebit de potrivit pentru machine learning, analiza datelor și educație.\r\n",
        ">pentru mai multe informatii https://research.google.com/colaboratory/faq.html\r\n"
      ]
    },
    {
      "cell_type": "markdown",
      "metadata": {
        "id": "QSUKcgxFKOUy"
      },
      "source": [
        ">>> Mai departe iti prezentam   ___ Robot.AI ___ \r\n",
        "\r\n",
        "Acesta este un site neconventional, care permite oricarei persoane sa utilizeze un compilator, sa se familiarizeze cu elementele de baza ale limbajului de programare si sa interactioneze cu o inteligenta artificiala rapid si usor, fiind nevoie doar de o conexiune buna la internet.\r\n",
        "\r\n",
        ">Acum te rog sa te conectezi la contul tau Google si sa tastezi CTRL+F9 (Meniul din stanga-sus > Runtime > Run all) \r\n",
        "\r\n",
        "urmeaza pasii indicati de catre program...Succes!"
      ]
    },
    {
      "cell_type": "markdown",
      "metadata": {
        "id": "sdQRs953LJyW"
      },
      "source": [
        "Pentru a vizualiza baza de date acceseaza linkul urmator:\r\n",
        "https://github.com/grigo210/robot.ai"
      ]
    },
    {
      "cell_type": "code",
      "metadata": {
        "id": "0zLDPJnlWfW1",
        "cellView": "form"
      },
      "source": [
        "#@markdown \" Nevoia este părintele inovației. \"  - Platon\r\n",
        "print(\"FORM: { se descarca pachetele de date necesare protocolului de invatare }\")\r\n",
        "print(\"\")\r\n",
        "print(\"se pun lucrurile la punct...dureaza 3 minute :) --- ne cerem scuze pentru asteptare\")\r\n",
        "print(\"\")\r\n",
        "print(\"noi utilizam un algoritm denumit 'GPT2', dezvoltat de catre organizatia OpenAI\")\r\n",
        "print(\"care poate genera text in functie de contextul primar furnizat de catre utilizator\")\r\n",
        "print(\"am prelucrat acest algoritm astfel incat sa functioneze in limba romana\")"
      ],
      "execution_count": null,
      "outputs": []
    },
    {
      "cell_type": "code",
      "metadata": {
        "id": "x474lghvWB_U",
        "cellView": "form"
      },
      "source": [
        "#@markdown ***\r\n",
        "%%capture\r\n",
        "#!git clone https://github.com/grigo210/robot.ai.git\r\n",
        "!wget -O GPT2_romana_grigo https://www.dropbox.com/sh/sw7fkefqdbln7zb/AACc6YSqVG58yNWmn9O6PaTCa?dl=0\r\n",
        "!unzip GPT2_romana_grigo\r\n",
        "!wget -O curs.txt https://www.dropbox.com/s/5eiztyfh4n9tv2m/curs.txt?dl=0\r\n",
        "!pip install tensorflow==1.15.0\r\n",
        "!pip install -q gpt-2-simple\r\n",
        "import gpt_2_simple as gpt2\r\n",
        "from datetime import datetime\r\n",
        "from google.colab import files\r\n",
        "sess = gpt2.start_tf_sess()\r\n",
        "gpt2.load_gpt2(sess)\r\n",
        "def GPT2():\r\n",
        "  gpt2.generate(sess,length=70,temperature=0.3, prefix=dialog_run.intrebare,nsamples=1)"
      ],
      "execution_count": null,
      "outputs": []
    },
    {
      "cell_type": "code",
      "metadata": {
        "id": "kiHC43fr8an8",
        "cellView": "form"
      },
      "source": [
        "#@markdown PROGRAM.exe\r\n",
        "\r\n",
        "import time\r\n",
        "import random\r\n",
        "\r\n",
        "lista = ['analizez...', \r\n",
        "       'sa vedem...', \r\n",
        "       'sper sa-mi iasa ceva ok',\r\n",
        "       'macar sa te fac sa razi :))',\r\n",
        "       'hmmm...']\r\n",
        "\r\n",
        "def nume():\r\n",
        "    nume.x = str(input(\"numele tau: \"))\r\n",
        "\r\n",
        "def meniu():\r\n",
        "    print(\"                                                                          \")\r\n",
        "    print(\"--------------------------------------------------------------------------\")\r\n",
        "    time.sleep(0.2)\r\n",
        "    print(\"Acesta este meniul.\")\r\n",
        "    time.sleep(0.2)\r\n",
        "    print(\"Tasteaza alegerea ta in linia de comanda.\")\r\n",
        "    time.sleep(0.2)\r\n",
        "    print(\"Pentru a accesa cursul noastru tastati in linia de comanda < curs >.\")\r\n",
        "    time.sleep(0.2)\r\n",
        "    print(\"Pentru a participa la webminar tastati in linia de comanda < web >.\")\r\n",
        "    time.sleep(0.2)\r\n",
        "    print(\"Pentru datele de contact tastati in linia de comanda < contact >.\")\r\n",
        "    time.sleep(0.2)\r\n",
        "    print(\"Pentru a reveni la start tastati in linia de comanda < exit >.\")\r\n",
        "    print(\"--------------------------------------------------------------------------\")\r\n",
        "\r\n",
        "def sageata():\r\n",
        "    time.sleep(0.1)\r\n",
        "    print(\" | | | |\")\r\n",
        "    print(\" v v v v\")\r\n",
        "\r\n",
        "def introducere():\r\n",
        "    print(\" Bine ati venit pe platforma noastra! \")\r\n",
        "    time.sleep(0.4)\r\n",
        "    nume()\r\n",
        "    print(\" \")\r\n",
        "    time.sleep(0.2)\r\n",
        "    print(\"Salut\",nume.x,\"! :)\"\"\\n Iti dedicam aceasta pagina.\")\r\n",
        "    meniu()\r\n",
        "    sageata()\r\n",
        "    introducere.x = nume.x\r\n",
        "\r\n",
        "def dialog_run():\r\n",
        "    time.sleep(0.08)\r\n",
        "    dialog_run.intrebare = str(input(\"Scrie ceva: \"))\r\n",
        "    if dialog_run.intrebare == \"pa\" :\r\n",
        "        print(\"Chatbot: Sper sa ai zi minunata,\", introducere.x, \"!\")\r\n",
        "        program()\r\n",
        "    while dialog_run.intrebare != \"pa\":\r\n",
        "        print(dialog.nume,\":\",random.choice(lista))\r\n",
        "        GPT2()\r\n",
        "        dialog_run()\r\n",
        "\r\n",
        "def dialog():\r\n",
        "    t = time.localtime()\r\n",
        "    ora_curenta = time.strftime(\"%H:%M:%S\", t)\r\n",
        "    print(\"Cum doresti sa se numeasca acest chatbot?\")\r\n",
        "    dialog.nume = str(input(\"nume chatbot: \"))\r\n",
        "    time.sleep(0.1)\r\n",
        "    print(\"Chatbot: Ma numesc\",dialog.nume,\". Si ma bucur ca discutam!\")\r\n",
        "    print(\"         Numele creatorului meu este\",introducere.x,\". Si ii multumesc pentru ca mi-a dat un scop.\")\r\n",
        "    print(\"         Ora curenta este\",ora_curenta,\". Inca mai ai timp sa faci putina miscare si sa te hidratezi!\")\r\n",
        "    dialog_run()\r\n",
        "\r\n",
        "def interactiv():\r\n",
        "    time.sleep(0.2)\r\n",
        "    print(\"Daca ai inteles ce presupune programarea unei inteligente artificiale si esti dornic sa lucrezi la propriul tau AI, atunci urmeaza urmatorii pasi. >>>\")\r\n",
        "    time.sleep(0.2)\r\n",
        "    print(\"Te vom ajuta sa creezi un chatbot care va afisa raspunsul pentru orice vei scrie.\")\r\n",
        "    print(\"\")\r\n",
        "    time.sleep(0.1)\r\n",
        "    print(\"Daca doresti sa parasesti conversatia cu chatbot-ul tau si sa te intorci la linia de comanda tasteaza < pa > .\")\r\n",
        "    print(\"\")\r\n",
        "    time.sleep(0.2)\r\n",
        "    print(\"Pentru inceput vom introduce cativa parametri.\")\r\n",
        "    time.sleep(0.2)\r\n",
        "    dialog()\r\n",
        "\r\n",
        "def program():\r\n",
        "    print(\" \")\r\n",
        "    time.sleep(0.2)\r\n",
        "    print(\"Tasteaza < meniu > pentru a afisa meniul.\")\r\n",
        "    y = str(input(\"Linia de comanda: \"))\r\n",
        "\r\n",
        "    if y == \"web\":\r\n",
        "        print(\" \")\r\n",
        "        print(\"Acesta este link-ul de acces: --- momentan indisponibil\")\r\n",
        "    elif y == \"curs\":\r\n",
        "        print(\" \")\r\n",
        "        time.sleep(0.2)\r\n",
        "        with open(\"/content/curs.txt\", \"r\", encoding=\"utf-8\") as file:\r\n",
        "            for line in file:\r\n",
        "                print(line.strip())\r\n",
        "        print(\" \")\r\n",
        "        time.sleep(0.2)\r\n",
        "        print(\"===================================================================\")\r\n",
        "        print(\"\")\r\n",
        "        print(\"Tasteaza < bot > in linia de comanda pentru a creea propriul robot.\")\r\n",
        "        print(\"^^^^^^^^\")\r\n",
        "    elif y == \"bot\":\r\n",
        "        interactiv()\r\n",
        "    elif y == \"meniu\":\r\n",
        "        meniu()\r\n",
        "    elif y == \"exit\":\r\n",
        "        time.sleep(0.2)\r\n",
        "        print(\"La revedere!\")\r\n",
        "        print(\" \")\r\n",
        "        introducere()\r\n",
        "    elif y == \"contact\":\r\n",
        "        print(\"Date de contact: grigoras.mail@gmail.com \")\r\n",
        "        print(\"\")\r\n",
        "    else:\r\n",
        "        print(\"Verifica codul\")\r\n",
        "\r\n",
        "class site:\r\n",
        "    introducere()\r\n",
        "    while True:\r\n",
        "        program()\r\n",
        "\r\n",
        "site()"
      ],
      "execution_count": null,
      "outputs": []
    },
    {
      "cell_type": "markdown",
      "metadata": {
        "id": "Px6hzOsVS0f3"
      },
      "source": [
        "\r\n",
        "In caz de intampinati probleme va rog sa ne scrieti un e-mail la adresa:\r\n",
        "grigoras.mail@gmail.com"
      ]
    }
  ]
}